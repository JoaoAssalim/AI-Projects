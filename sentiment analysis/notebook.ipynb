{
 "cells": [
  {
   "cell_type": "code",
   "execution_count": 7,
   "metadata": {},
   "outputs": [],
   "source": [
    "import pandas as pd\n",
    "import numpy as np\n",
    "\n",
    "import torch\n",
    "import torch.nn.functional as F\n",
    "from torch import nn\n",
    "import torch.optim as optim\n",
    "from torch.utils.data import DataLoader, TensorDataset\n",
    "\n",
    "from sklearn.preprocessing import LabelEncoder\n",
    "from sklearn.model_selection import train_test_split\n",
    "\n",
    "import re\n",
    "\n",
    "import nltk\n",
    "from nltk.stem import WordNetLemmatizer\n",
    "from nltk.corpus import stopwords\n",
    "\n",
    "import matplotlib.pyplot as plt"
   ]
  },
  {
   "cell_type": "code",
   "execution_count": 8,
   "metadata": {},
   "outputs": [
    {
     "data": {
      "text/html": [
       "<div>\n",
       "<style scoped>\n",
       "    .dataframe tbody tr th:only-of-type {\n",
       "        vertical-align: middle;\n",
       "    }\n",
       "\n",
       "    .dataframe tbody tr th {\n",
       "        vertical-align: top;\n",
       "    }\n",
       "\n",
       "    .dataframe thead th {\n",
       "        text-align: right;\n",
       "    }\n",
       "</style>\n",
       "<table border=\"1\" class=\"dataframe\">\n",
       "  <thead>\n",
       "    <tr style=\"text-align: right;\">\n",
       "      <th></th>\n",
       "      <th>sentiment</th>\n",
       "      <th>content</th>\n",
       "    </tr>\n",
       "  </thead>\n",
       "  <tbody>\n",
       "    <tr>\n",
       "      <th>0</th>\n",
       "      <td>Positive</td>\n",
       "      <td>im getting on borderlands and i will murder yo...</td>\n",
       "    </tr>\n",
       "    <tr>\n",
       "      <th>1</th>\n",
       "      <td>Positive</td>\n",
       "      <td>I am coming to the borders and I will kill you...</td>\n",
       "    </tr>\n",
       "    <tr>\n",
       "      <th>2</th>\n",
       "      <td>Positive</td>\n",
       "      <td>im getting on borderlands and i will kill you ...</td>\n",
       "    </tr>\n",
       "    <tr>\n",
       "      <th>3</th>\n",
       "      <td>Positive</td>\n",
       "      <td>im coming on borderlands and i will murder you...</td>\n",
       "    </tr>\n",
       "    <tr>\n",
       "      <th>4</th>\n",
       "      <td>Positive</td>\n",
       "      <td>im getting on borderlands 2 and i will murder ...</td>\n",
       "    </tr>\n",
       "  </tbody>\n",
       "</table>\n",
       "</div>"
      ],
      "text/plain": [
       "  sentiment                                            content\n",
       "0  Positive  im getting on borderlands and i will murder yo...\n",
       "1  Positive  I am coming to the borders and I will kill you...\n",
       "2  Positive  im getting on borderlands and i will kill you ...\n",
       "3  Positive  im coming on borderlands and i will murder you...\n",
       "4  Positive  im getting on borderlands 2 and i will murder ..."
      ]
     },
     "execution_count": 8,
     "metadata": {},
     "output_type": "execute_result"
    }
   ],
   "source": [
    "df = pd.read_csv(\"./twitter_training.csv\")\n",
    "df.drop([\"tweet id\", \"entity\"], inplace=True, axis=1)\n",
    "df.head()"
   ]
  },
  {
   "cell_type": "code",
   "execution_count": 9,
   "metadata": {},
   "outputs": [
    {
     "data": {
      "text/plain": [
       "array(['Positive', 'Neutral', 'Negative', 'Irrelevant'], dtype=object)"
      ]
     },
     "execution_count": 9,
     "metadata": {},
     "output_type": "execute_result"
    }
   ],
   "source": [
    "df[\"sentiment\"].unique()"
   ]
  },
  {
   "cell_type": "markdown",
   "metadata": {},
   "source": [
    "### Pre processing"
   ]
  },
  {
   "cell_type": "code",
   "execution_count": 10,
   "metadata": {},
   "outputs": [],
   "source": [
    "lb = LabelEncoder()\n",
    "df[\"label_sentiment\"] = lb.fit_transform(df[\"sentiment\"])"
   ]
  },
  {
   "cell_type": "code",
   "execution_count": 11,
   "metadata": {},
   "outputs": [
    {
     "data": {
      "text/html": [
       "<div>\n",
       "<style scoped>\n",
       "    .dataframe tbody tr th:only-of-type {\n",
       "        vertical-align: middle;\n",
       "    }\n",
       "\n",
       "    .dataframe tbody tr th {\n",
       "        vertical-align: top;\n",
       "    }\n",
       "\n",
       "    .dataframe thead th {\n",
       "        text-align: right;\n",
       "    }\n",
       "</style>\n",
       "<table border=\"1\" class=\"dataframe\">\n",
       "  <thead>\n",
       "    <tr style=\"text-align: right;\">\n",
       "      <th></th>\n",
       "      <th>sentiment</th>\n",
       "      <th>content</th>\n",
       "      <th>label_sentiment</th>\n",
       "    </tr>\n",
       "  </thead>\n",
       "  <tbody>\n",
       "    <tr>\n",
       "      <th>0</th>\n",
       "      <td>Positive</td>\n",
       "      <td>im getting on borderlands and i will murder yo...</td>\n",
       "      <td>3</td>\n",
       "    </tr>\n",
       "    <tr>\n",
       "      <th>1</th>\n",
       "      <td>Positive</td>\n",
       "      <td>I am coming to the borders and I will kill you...</td>\n",
       "      <td>3</td>\n",
       "    </tr>\n",
       "    <tr>\n",
       "      <th>2</th>\n",
       "      <td>Positive</td>\n",
       "      <td>im getting on borderlands and i will kill you ...</td>\n",
       "      <td>3</td>\n",
       "    </tr>\n",
       "    <tr>\n",
       "      <th>3</th>\n",
       "      <td>Positive</td>\n",
       "      <td>im coming on borderlands and i will murder you...</td>\n",
       "      <td>3</td>\n",
       "    </tr>\n",
       "    <tr>\n",
       "      <th>4</th>\n",
       "      <td>Positive</td>\n",
       "      <td>im getting on borderlands 2 and i will murder ...</td>\n",
       "      <td>3</td>\n",
       "    </tr>\n",
       "  </tbody>\n",
       "</table>\n",
       "</div>"
      ],
      "text/plain": [
       "  sentiment                                            content  \\\n",
       "0  Positive  im getting on borderlands and i will murder yo...   \n",
       "1  Positive  I am coming to the borders and I will kill you...   \n",
       "2  Positive  im getting on borderlands and i will kill you ...   \n",
       "3  Positive  im coming on borderlands and i will murder you...   \n",
       "4  Positive  im getting on borderlands 2 and i will murder ...   \n",
       "\n",
       "   label_sentiment  \n",
       "0                3  \n",
       "1                3  \n",
       "2                3  \n",
       "3                3  \n",
       "4                3  "
      ]
     },
     "execution_count": 11,
     "metadata": {},
     "output_type": "execute_result"
    }
   ],
   "source": [
    "df.head()"
   ]
  },
  {
   "cell_type": "code",
   "execution_count": 12,
   "metadata": {},
   "outputs": [
    {
     "data": {
      "text/plain": [
       "sentiment            0\n",
       "content            686\n",
       "label_sentiment      0\n",
       "dtype: int64"
      ]
     },
     "execution_count": 12,
     "metadata": {},
     "output_type": "execute_result"
    }
   ],
   "source": [
    "df.isnull().sum()"
   ]
  },
  {
   "cell_type": "code",
   "execution_count": 13,
   "metadata": {},
   "outputs": [],
   "source": [
    "df.dropna(inplace=True)"
   ]
  },
  {
   "cell_type": "code",
   "execution_count": 14,
   "metadata": {},
   "outputs": [
    {
     "data": {
      "text/plain": [
       "sentiment          0\n",
       "content            0\n",
       "label_sentiment    0\n",
       "dtype: int64"
      ]
     },
     "execution_count": 14,
     "metadata": {},
     "output_type": "execute_result"
    }
   ],
   "source": [
    "df.isnull().sum()"
   ]
  },
  {
   "cell_type": "code",
   "execution_count": 15,
   "metadata": {},
   "outputs": [
    {
     "data": {
      "text/plain": [
       "array(['Irrelevant', 'Negative', 'Neutral', 'Positive'], dtype=object)"
      ]
     },
     "execution_count": 15,
     "metadata": {},
     "output_type": "execute_result"
    }
   ],
   "source": [
    "lb.classes_"
   ]
  },
  {
   "cell_type": "code",
   "execution_count": 16,
   "metadata": {},
   "outputs": [
    {
     "data": {
      "text/plain": [
       "sentiment\n",
       "Negative      22358\n",
       "Positive      20655\n",
       "Neutral       18108\n",
       "Irrelevant    12875\n",
       "Name: count, dtype: int64"
      ]
     },
     "execution_count": 16,
     "metadata": {},
     "output_type": "execute_result"
    }
   ],
   "source": [
    "df[\"sentiment\"].value_counts()"
   ]
  },
  {
   "cell_type": "code",
   "execution_count": 17,
   "metadata": {},
   "outputs": [
    {
     "data": {
      "image/png": "[encoded data removed]",
      "text/plain": [
       "<Figure size 640x480 with 1 Axes>"
      ]
     },
     "metadata": {},
     "output_type": "display_data"
    }
   ],
   "source": [
    "value_counts = df[\"sentiment\"].value_counts()\n",
    "ax = value_counts.plot(kind='bar')\n",
    "\n",
    "ax.set_xticklabels(['Negative', 'Positive', 'Neutral', 'Irrelevant'], rotation=0)\n",
    "\n",
    "plt.title('Distribuição dos Sentimentos')\n",
    "plt.xlabel('Sentimentos')\n",
    "plt.ylabel('Contagem')\n",
    "\n",
    "plt.show()"
   ]
  },
  {
   "cell_type": "code",
   "execution_count": 18,
   "metadata": {},
   "outputs": [
    {
     "name": "stderr",
     "output_type": "stream",
     "text": [
      "[nltk_data] Downloading package wordnet to\n",
      "[nltk_data]     C:\\Users\\janna\\AppData\\Roaming\\nltk_data...\n",
      "[nltk_data]   Package wordnet is already up-to-date!\n",
      "[nltk_data] Downloading package stopwords to\n",
      "[nltk_data]     C:\\Users\\janna\\AppData\\Roaming\\nltk_data...\n",
      "[nltk_data]   Package stopwords is already up-to-date!\n"
     ]
    }
   ],
   "source": [
    "nltk.download('wordnet')\n",
    "nltk.download('stopwords')\n",
    "wnl = WordNetLemmatizer()\n",
    "stop_words = stopwords.words('english')\n",
    "\n",
    "def preprocessing_text(text):\n",
    "    text = re.sub('[^A-Za-z]+', ' ', text)\n",
    "    text = text.split()\n",
    "    text = \" \".join([wnl.lemmatize(word) for word in text if not word in stop_words and len(word) >= 3])\n",
    "    return text.lower()\n"
   ]
  },
  {
   "cell_type": "code",
   "execution_count": 19,
   "metadata": {},
   "outputs": [
    {
     "name": "stdout",
     "output_type": "stream",
     "text": [
      "getting borderland murder\n"
     ]
    }
   ],
   "source": [
    "print(preprocessing_text(\"im getting on borderlands and i will murder you\"))"
   ]
  },
  {
   "cell_type": "code",
   "execution_count": 20,
   "metadata": {},
   "outputs": [],
   "source": [
    "df[\"content\"] = df[\"content\"].apply(preprocessing_text)"
   ]
  },
  {
   "cell_type": "code",
   "execution_count": 21,
   "metadata": {},
   "outputs": [
    {
     "data": {
      "text/html": [
       "<div>\n",
       "<style scoped>\n",
       "    .dataframe tbody tr th:only-of-type {\n",
       "        vertical-align: middle;\n",
       "    }\n",
       "\n",
       "    .dataframe tbody tr th {\n",
       "        vertical-align: top;\n",
       "    }\n",
       "\n",
       "    .dataframe thead th {\n",
       "        text-align: right;\n",
       "    }\n",
       "</style>\n",
       "<table border=\"1\" class=\"dataframe\">\n",
       "  <thead>\n",
       "    <tr style=\"text-align: right;\">\n",
       "      <th></th>\n",
       "      <th>sentiment</th>\n",
       "      <th>content</th>\n",
       "      <th>label_sentiment</th>\n",
       "    </tr>\n",
       "  </thead>\n",
       "  <tbody>\n",
       "    <tr>\n",
       "      <th>0</th>\n",
       "      <td>Positive</td>\n",
       "      <td>getting borderland murder</td>\n",
       "      <td>3</td>\n",
       "    </tr>\n",
       "    <tr>\n",
       "      <th>1</th>\n",
       "      <td>Positive</td>\n",
       "      <td>coming border kill</td>\n",
       "      <td>3</td>\n",
       "    </tr>\n",
       "    <tr>\n",
       "      <th>2</th>\n",
       "      <td>Positive</td>\n",
       "      <td>getting borderland kill</td>\n",
       "      <td>3</td>\n",
       "    </tr>\n",
       "    <tr>\n",
       "      <th>3</th>\n",
       "      <td>Positive</td>\n",
       "      <td>coming borderland murder</td>\n",
       "      <td>3</td>\n",
       "    </tr>\n",
       "    <tr>\n",
       "      <th>4</th>\n",
       "      <td>Positive</td>\n",
       "      <td>getting borderland murder</td>\n",
       "      <td>3</td>\n",
       "    </tr>\n",
       "  </tbody>\n",
       "</table>\n",
       "</div>"
      ],
      "text/plain": [
       "  sentiment                    content  label_sentiment\n",
       "0  Positive  getting borderland murder                3\n",
       "1  Positive         coming border kill                3\n",
       "2  Positive    getting borderland kill                3\n",
       "3  Positive   coming borderland murder                3\n",
       "4  Positive  getting borderland murder                3"
      ]
     },
     "execution_count": 21,
     "metadata": {},
     "output_type": "execute_result"
    }
   ],
   "source": [
    "df.head()"
   ]
  },
  {
   "cell_type": "code",
   "execution_count": 22,
   "metadata": {},
   "outputs": [
    {
     "data": {
      "image/png": "[encoded data removed]",
      "text/plain": [
       "<Figure size 640x480 with 1 Axes>"
      ]
     },
     "metadata": {},
     "output_type": "display_data"
    }
   ],
   "source": [
    "from PIL import Image\n",
    "from wordcloud import WordCloud\n",
    "\n",
    "text = \" \".join(df[\"content\"])\n",
    "\n",
    "wordcloud = WordCloud(max_font_size=50, max_words=50, background_color=\"blacK\").generate(text)\n",
    "plt.figure()\n",
    "plt.imshow(wordcloud, interpolation=\"bilinear\")\n",
    "plt.axis(\"off\")\n",
    "plt.show()"
   ]
  },
  {
   "cell_type": "code",
   "execution_count": 23,
   "metadata": {},
   "outputs": [
    {
     "data": {
      "text/html": [
       "<div>\n",
       "<style scoped>\n",
       "    .dataframe tbody tr th:only-of-type {\n",
       "        vertical-align: middle;\n",
       "    }\n",
       "\n",
       "    .dataframe tbody tr th {\n",
       "        vertical-align: top;\n",
       "    }\n",
       "\n",
       "    .dataframe thead th {\n",
       "        text-align: right;\n",
       "    }\n",
       "</style>\n",
       "<table border=\"1\" class=\"dataframe\">\n",
       "  <thead>\n",
       "    <tr style=\"text-align: right;\">\n",
       "      <th></th>\n",
       "      <th>sentiment</th>\n",
       "      <th>content</th>\n",
       "      <th>label_sentiment</th>\n",
       "    </tr>\n",
       "  </thead>\n",
       "  <tbody>\n",
       "    <tr>\n",
       "      <th>36941</th>\n",
       "      <td>Negative</td>\n",
       "      <td>unk publisher crashed microsoft</td>\n",
       "      <td>1</td>\n",
       "    </tr>\n",
       "    <tr>\n",
       "      <th>36942</th>\n",
       "      <td>Irrelevant</td>\n",
       "      <td>nintendo thing company never friendly people c...</td>\n",
       "      <td>0</td>\n",
       "    </tr>\n",
       "    <tr>\n",
       "      <th>36943</th>\n",
       "      <td>Irrelevant</td>\n",
       "      <td>nintendo nothing company never friendly people...</td>\n",
       "      <td>0</td>\n",
       "    </tr>\n",
       "    <tr>\n",
       "      <th>36944</th>\n",
       "      <td>Irrelevant</td>\n",
       "      <td>nintendo nothing company</td>\n",
       "      <td>0</td>\n",
       "    </tr>\n",
       "    <tr>\n",
       "      <th>36945</th>\n",
       "      <td>Irrelevant</td>\n",
       "      <td>nintendo thing company friendly people claim</td>\n",
       "      <td>0</td>\n",
       "    </tr>\n",
       "  </tbody>\n",
       "</table>\n",
       "</div>"
      ],
      "text/plain": [
       "        sentiment                                            content  \\\n",
       "36941    Negative                    unk publisher crashed microsoft   \n",
       "36942  Irrelevant  nintendo thing company never friendly people c...   \n",
       "36943  Irrelevant  nintendo nothing company never friendly people...   \n",
       "36944  Irrelevant                           nintendo nothing company   \n",
       "36945  Irrelevant       nintendo thing company friendly people claim   \n",
       "\n",
       "       label_sentiment  \n",
       "36941                1  \n",
       "36942                0  \n",
       "36943                0  \n",
       "36944                0  \n",
       "36945                0  "
      ]
     },
     "execution_count": 23,
     "metadata": {},
     "output_type": "execute_result"
    }
   ],
   "source": [
    "from random import randint\n",
    "\n",
    "x = randint(0, df.shape[0])\n",
    "\n",
    "df.iloc[x:x+5, :]"
   ]
  },
  {
   "cell_type": "markdown",
   "metadata": {},
   "source": [
    "### Modeling"
   ]
  },
  {
   "cell_type": "code",
   "execution_count": 24,
   "metadata": {},
   "outputs": [],
   "source": [
    "device = (\n",
    "    \"cuda\"\n",
    "    if torch.cuda.is_available()\n",
    "    else \"mps\"\n",
    "    if torch.backends.mps.is_available()\n",
    "    else \"cpu\"\n",
    ")"
   ]
  },
  {
   "cell_type": "code",
   "execution_count": 25,
   "metadata": {},
   "outputs": [],
   "source": [
    "def get_vocab(X):\n",
    "    vocab = {'__UNK__': 0}\n",
    "\n",
    "    for item in X:\n",
    "        for word in item.split():\n",
    "            if word not in vocab:\n",
    "                vocab[word] = len(vocab)\n",
    "    \n",
    "    return vocab\n",
    "\n",
    "vocab = get_vocab(df[\"content\"])"
   ]
  },
  {
   "cell_type": "code",
   "execution_count": 26,
   "metadata": {},
   "outputs": [
    {
     "name": "stdout",
     "output_type": "stream",
     "text": [
      "27371\n"
     ]
    }
   ],
   "source": [
    "print(len(vocab))"
   ]
  },
  {
   "cell_type": "code",
   "execution_count": 27,
   "metadata": {},
   "outputs": [],
   "source": [
    "def text_to_tensor(text, unk_token='__UNK__'):\n",
    "    \n",
    "    tensor = [0] * 130\n",
    "\n",
    "    for e, word in enumerate(text.split()):\n",
    "        if not word in vocab:\n",
    "            word = unk_token\n",
    "        \n",
    "        tensor[e] = vocab[word]\n",
    "    \n",
    "    return tensor"
   ]
  },
  {
   "cell_type": "code",
   "execution_count": 28,
   "metadata": {},
   "outputs": [
    {
     "name": "stdout",
     "output_type": "stream",
     "text": [
      "130\n"
     ]
    }
   ],
   "source": [
    "m = 0\n",
    "\n",
    "list_x = df[\"content\"].values\n",
    "\n",
    "for i in range(df[\"content\"].shape[0]):\n",
    "    if len(text_to_tensor(list_x[i])) > m:\n",
    "        m = len(text_to_tensor(list_x[i]))\n",
    "\n",
    "print(m)"
   ]
  },
  {
   "cell_type": "code",
   "execution_count": 29,
   "metadata": {},
   "outputs": [],
   "source": [
    "X = list(df[\"content\"].apply(text_to_tensor))\n",
    "y = list(df[\"label_sentiment\"])"
   ]
  },
  {
   "cell_type": "code",
   "execution_count": 30,
   "metadata": {},
   "outputs": [],
   "source": [
    "X_train, X_test, y_train, y_test = train_test_split(X, y, test_size=0.2)"
   ]
  },
  {
   "cell_type": "code",
   "execution_count": 31,
   "metadata": {},
   "outputs": [],
   "source": [
    "X_train = torch.as_tensor(X_train).to(device)\n",
    "y_train = torch.as_tensor(y_train).to(device)\n",
    "\n",
    "train_data = TensorDataset(X_train, y_train)\n",
    "train_loader = DataLoader(train_data, batch_size=2, shuffle=True)"
   ]
  },
  {
   "cell_type": "code",
   "execution_count": 32,
   "metadata": {},
   "outputs": [],
   "source": [
    "X_test = torch.as_tensor(X_test).to(device)\n",
    "y_test = torch.as_tensor(y_test).to(device)\n",
    "\n",
    "test_data = TensorDataset(X_test, y_test)\n",
    "test_loader = DataLoader(test_data, batch_size=2, shuffle=True)"
   ]
  },
  {
   "cell_type": "code",
   "execution_count": 33,
   "metadata": {},
   "outputs": [
    {
     "name": "stdout",
     "output_type": "stream",
     "text": [
      "X_train shape: torch.Size([59196, 130])\n",
      "y_train shape: torch.Size([59196])\n",
      "train_data length: 59196\n"
     ]
    }
   ],
   "source": [
    "print(\"X_train shape:\", X_train.shape)\n",
    "print(\"y_train shape:\", y_train.shape)\n",
    "print(\"train_data length:\", len(train_data))"
   ]
  },
  {
   "cell_type": "code",
   "execution_count": 34,
   "metadata": {},
   "outputs": [],
   "source": [
    "def train(model, num_epochs):\n",
    "    train_loss = []\n",
    "    train_accuracy = []\n",
    "\n",
    "    for epoch in range(num_epochs):\n",
    "        model.train()\n",
    "        total_correct = 0\n",
    "        total_samples = 0\n",
    "        for inputs, labels in train_loader:\n",
    "            optimizer.zero_grad()\n",
    "            outputs = model(inputs).to(device)\n",
    "            loss = criterion(outputs, labels)\n",
    "            loss.backward()\n",
    "            optimizer.step()\n",
    "            \n",
    "            _, predicted = torch.max(outputs, 1)\n",
    "            total_correct += (predicted == labels).sum().item()\n",
    "            total_samples += labels.size(0)\n",
    "        \n",
    "        accuracy = total_correct / total_samples\n",
    "        train_loss.append(loss.item())\n",
    "        train_accuracy.append(accuracy * 100)\n",
    "        \n",
    "        print(f'Epoch {epoch+1}/{num_epochs}, Loss: {loss.item()}, Accuracy: {accuracy * 100:.2f}%')"
   ]
  },
  {
   "cell_type": "code",
   "execution_count": 42,
   "metadata": {},
   "outputs": [],
   "source": [
    "def test(model):\n",
    "\n",
    "    total_correct = 0\n",
    "    total_samples = 0\n",
    "    for inputs, labels in test_loader:\n",
    "        outputs = model(inputs).to(device)\n",
    "        loss = criterion(outputs, labels)\n",
    "        \n",
    "        _, predicted = torch.max(outputs, 1)\n",
    "        total_correct += (predicted == labels).sum().item()\n",
    "        total_samples += labels.size(0)\n",
    "    \n",
    "    accuracy = total_correct / total_samples\n",
    "        \n",
    "    print(f'Loss: {loss.item()}, Accuracy: {accuracy * 100:.2f}%')"
   ]
  },
  {
   "cell_type": "markdown",
   "metadata": {},
   "source": [
    "### Model 1"
   ]
  },
  {
   "cell_type": "code",
   "execution_count": 53,
   "metadata": {},
   "outputs": [],
   "source": [
    "class SimpleNLPModel(nn.Module):\n",
    "    def __init__(self, vocab_size, embed_size, num_classes):\n",
    "        super(SimpleNLPModel, self).__init__()\n",
    "        self.embedding = nn.Embedding(vocab_size, embed_size) #tam dicionario, tam vetor\n",
    "        self.fc = nn.Linear(embed_size, num_classes) #tam entrada, tam saida\n",
    "\n",
    "    def forward(self, x):\n",
    "        embedded = self.embedding(x)\n",
    "        pooled = torch.mean(embedded, dim=1)\n",
    "        out = self.fc(pooled)\n",
    "        return out"
   ]
  },
  {
   "cell_type": "code",
   "execution_count": 54,
   "metadata": {},
   "outputs": [],
   "source": [
    "vocab_size = len(vocab) + 1\n",
    "embed_size = 50\n",
    "num_classes = df[\"sentiment\"].nunique()"
   ]
  },
  {
   "cell_type": "code",
   "execution_count": 55,
   "metadata": {},
   "outputs": [],
   "source": [
    "model = SimpleNLPModel(vocab_size, embed_size, num_classes).to(device)\n",
    "criterion = nn.CrossEntropyLoss()\n",
    "optimizer = optim.Adam(model.parameters(), lr=0.01)"
   ]
  },
  {
   "cell_type": "code",
   "execution_count": 56,
   "metadata": {},
   "outputs": [
    {
     "name": "stdout",
     "output_type": "stream",
     "text": [
      "Epoch 1/20, Loss: 1.4901841878890991, Accuracy: 61.55%\n",
      "Epoch 2/20, Loss: 0.12497323751449585, Accuracy: 77.36%\n",
      "Epoch 3/20, Loss: 2.7130284309387207, Accuracy: 82.10%\n",
      "Epoch 4/20, Loss: 1.0394599437713623, Accuracy: 84.13%\n",
      "Epoch 5/20, Loss: 0.009534100070595741, Accuracy: 85.45%\n",
      "Epoch 6/20, Loss: 0.800910472869873, Accuracy: 86.59%\n",
      "Epoch 7/20, Loss: 0.5219999551773071, Accuracy: 87.23%\n",
      "Epoch 8/20, Loss: 0.13260938227176666, Accuracy: 87.70%\n",
      "Epoch 9/20, Loss: 1.3483097553253174, Accuracy: 88.19%\n",
      "Epoch 10/20, Loss: 0.0019675581716001034, Accuracy: 88.48%\n",
      "Epoch 11/20, Loss: 0.008706064894795418, Accuracy: 88.83%\n",
      "Epoch 12/20, Loss: 1.0403271913528442, Accuracy: 89.15%\n",
      "Epoch 13/20, Loss: 0.00030342742684297264, Accuracy: 89.16%\n",
      "Epoch 14/20, Loss: 0.148288294672966, Accuracy: 89.41%\n",
      "Epoch 15/20, Loss: 0.019870439544320107, Accuracy: 89.41%\n",
      "Epoch 16/20, Loss: 0.0043249898590147495, Accuracy: 89.62%\n",
      "Epoch 17/20, Loss: 1.1116639375686646, Accuracy: 89.88%\n",
      "Epoch 18/20, Loss: 0.03236855939030647, Accuracy: 90.02%\n",
      "Epoch 19/20, Loss: 1.0888832807540894, Accuracy: 90.04%\n",
      "Epoch 20/20, Loss: 0.00026243014144711196, Accuracy: 90.03%\n"
     ]
    }
   ],
   "source": [
    "train(model, num_epochs=20)"
   ]
  },
  {
   "cell_type": "code",
   "execution_count": 43,
   "metadata": {},
   "outputs": [
    {
     "name": "stdout",
     "output_type": "stream",
     "text": [
      "Loss: 2.914051055908203, Accuracy: 85.34%\n"
     ]
    }
   ],
   "source": [
    "test(model)"
   ]
  },
  {
   "cell_type": "markdown",
   "metadata": {},
   "source": [
    "### Model 2"
   ]
  },
  {
   "cell_type": "code",
   "execution_count": 118,
   "metadata": {},
   "outputs": [],
   "source": [
    "\n",
    "class LSTMModel(nn.Module):\n",
    "    def __init__(self, vocab_size, embed_size, num_classes, hidden_size, num_layers, dropout):\n",
    "        super(LSTMModel, self).__init__()\n",
    "        self.embedding = nn.Embedding(vocab_size, embed_size)\n",
    "        self.lstm = nn.LSTM(embed_size, hidden_size, num_layers, dropout=dropout, batch_first=True)\n",
    "        self.fc = nn.Linear(hidden_size, num_classes)\n",
    "        self.dropout = nn.Dropout(dropout)\n",
    "\n",
    "    def forward(self, x):\n",
    "        embedded = self.embedding(x)\n",
    "        lstm_out, _ = self.lstm(embedded)\n",
    "        lstm_out = self.dropout(lstm_out)\n",
    "        lstm_out = torch.mean(lstm_out, dim=1) \n",
    "        output = self.fc(lstm_out)\n",
    "        \n",
    "        return output"
   ]
  },
  {
   "cell_type": "code",
   "execution_count": 119,
   "metadata": {},
   "outputs": [],
   "source": [
    "vocab_size = len(vocab) + 1\n",
    "embed_size = 100\n",
    "num_classes = df[\"sentiment\"].nunique()\n",
    "hidden_size = 128\n",
    "num_layers = 3\n",
    "dropout = 0.5"
   ]
  },
  {
   "cell_type": "code",
   "execution_count": 120,
   "metadata": {},
   "outputs": [],
   "source": [
    "lstm_model = LSTMModel(vocab_size, embed_size, num_classes, hidden_size, num_layers, dropout).to(device)\n",
    "criterion = nn.CrossEntropyLoss()\n",
    "optimizer = optim.Adam(lstm_model.parameters(), lr=0.001)"
   ]
  },
  {
   "cell_type": "code",
   "execution_count": 121,
   "metadata": {},
   "outputs": [
    {
     "name": "stdout",
     "output_type": "stream",
     "text": [
      "Epoch 1/20, Loss: 0.5558639764785767, Accuracy: 51.26%\n",
      "Epoch 2/20, Loss: 0.017096195369958878, Accuracy: 73.04%\n",
      "Epoch 3/20, Loss: 0.0008254027343355119, Accuracy: 82.83%\n",
      "Epoch 4/20, Loss: 0.495476633310318, Accuracy: 87.64%\n",
      "Epoch 5/20, Loss: 0.0081260334700346, Accuracy: 90.03%\n",
      "Epoch 6/20, Loss: 0.0008847080753184855, Accuracy: 91.48%\n",
      "Epoch 7/20, Loss: 9.726540884003043e-05, Accuracy: 92.39%\n",
      "Epoch 8/20, Loss: 0.027886031195521355, Accuracy: 93.05%\n",
      "Epoch 9/20, Loss: 0.0002872755576390773, Accuracy: 93.59%\n",
      "Epoch 10/20, Loss: 0.024915792047977448, Accuracy: 94.08%\n",
      "Epoch 11/20, Loss: 0.02863849699497223, Accuracy: 94.48%\n",
      "Epoch 12/20, Loss: 0.6274543404579163, Accuracy: 94.67%\n",
      "Epoch 13/20, Loss: 0.03913205862045288, Accuracy: 94.96%\n",
      "Epoch 14/20, Loss: 0.000327480083797127, Accuracy: 94.96%\n",
      "Epoch 15/20, Loss: 5.0899776397272944e-05, Accuracy: 95.23%\n",
      "Epoch 16/20, Loss: 1.7584400177001953, Accuracy: 95.31%\n",
      "Epoch 17/20, Loss: 0.0009517546277493238, Accuracy: 95.41%\n",
      "Epoch 18/20, Loss: 5.7813540479401127e-05, Accuracy: 95.46%\n",
      "Epoch 19/20, Loss: 8.892600453691557e-05, Accuracy: 95.35%\n",
      "Epoch 20/20, Loss: 0.6598657965660095, Accuracy: 95.32%\n"
     ]
    }
   ],
   "source": [
    "train(lstm_model, num_epochs=20)"
   ]
  },
  {
   "cell_type": "code",
   "execution_count": 126,
   "metadata": {},
   "outputs": [
    {
     "name": "stdout",
     "output_type": "stream",
     "text": [
      "Loss: 0.00017854564066510648, Accuracy: 86.89%\n"
     ]
    }
   ],
   "source": [
    "test(lstm_model)"
   ]
  },
  {
   "cell_type": "markdown",
   "metadata": {},
   "source": [
    "### Conceitos"
   ]
  },
  {
   "cell_type": "markdown",
   "metadata": {},
   "source": [
    "#### Pooling\n",
    "\n",
    "    Pooling é uma operação comumente usada em redes neurais convolucionais (CNNs) para reduzir a dimensionalidade e agregar informações. No entanto, em redes recorrentes como LSTM, o pooling não é uma prática padrão. A ideia por trás do pooling no seu código era provavelmente tentar reduzir a dimensão da entrada antes de passá-la para a LSTM, mas isso não é necessário e pode ser contraproducente.\n",
    "\n",
    "#### Squeeze\n",
    "\n",
    "    Squeeze é uma operação que remove dimensões de tamanho 1 de um tensor. No seu código, squeeze(0) está sendo usado para ajustar as dimensões da saída da LSTM antes de passá-la para a camada totalmente conectada (fc). No entanto, essa abordagem pode causar problemas, como a incompatibilidade de tamanhos de lote que você está vendo."
   ]
  }
 ],
 "metadata": {
  "kernelspec": {
   "display_name": "Python 3",
   "language": "python",
   "name": "python3"
  },
  "language_info": {
   "codemirror_mode": {
    "name": "ipython",
    "version": 3
   },
   "file_extension": ".py",
   "mimetype": "text/x-python",
   "name": "python",
   "nbconvert_exporter": "python",
   "pygments_lexer": "ipython3",
   "version": "3.9.7"
  }
 },
 "nbformat": 4,
 "nbformat_minor": 2
}
